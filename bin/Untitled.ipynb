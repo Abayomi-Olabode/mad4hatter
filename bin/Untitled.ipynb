{
 "cells": [
  {
   "cell_type": "code",
   "execution_count": 1,
   "id": "029a8ecb-138d-434d-8857-c699eaab4e01",
   "metadata": {},
   "outputs": [],
   "source": [
    "import pandas as pd\n",
    "from Bio import SeqIO\n",
    "from Bio.Seq import translate\n",
    "from Bio.Seq import translate, Seq\n",
    "import argparse\n",
    "import re\n",
    "from concurrent.futures import ProcessPoolExecutor, as_completed\n",
    "from functools import partial\n",
    "import numpy as np\n",
    "import json\n",
    "import logging\n",
    "from logging.handlers import RotatingFileHandler\n",
    "import traceback"
   ]
  },
  {
   "cell_type": "code",
   "execution_count": 2,
   "id": "0abb01de-986e-4476-8fc8-e1ced629d914",
   "metadata": {},
   "outputs": [],
   "source": [
    "old_resmarker_table = pd.read_csv('real_example/old_script_output/resmarker_table.txt', sep='\\t')\n",
    "old_mhap_table = pd.read_csv('real_example/old_script_output/resmarker_microhap_table.txt', sep='\\t')\n",
    "old_new_mutations = pd.read_csv('real_example/old_script_output/resmarker_new_mutations.txt', sep='\\t')"
   ]
  },
  {
   "cell_type": "code",
   "execution_count": 3,
   "id": "3a9f7ec6-f59b-48c4-ac75-0658ad772c64",
   "metadata": {},
   "outputs": [],
   "source": [
    "new_resmarker_table = pd.read_csv('resmarker_table_by_locus.txt', sep='\\t')\n",
    "new_collapsed_table = pd.read_csv('resmarker_table.txt', sep='\\t')\n",
    "new_mhap_table = pd.read_csv('resmarker_microhap_table.txt', sep='\\t')\n",
    "new_new_mutations = pd.read_csv('discovery_table.txt', sep='\\t')"
   ]
  },
  {
   "cell_type": "markdown",
   "id": "ed06c834-5b0e-4c30-b66a-6173db51c585",
   "metadata": {},
   "source": [
    "# Resmarker table comparison "
   ]
  },
  {
   "cell_type": "code",
   "execution_count": 4,
   "id": "339ed5ac-0fbc-4703-8a52-5470112702fa",
   "metadata": {},
   "outputs": [
    {
     "data": {
      "text/plain": [
       "Index(['SampleID', 'Locus', 'GeneID', 'Gene', 'CodonID', 'RefCodon', 'Codon',\n",
       "       'CodonStart', 'CodonRefAlt', 'RefAA', 'AA', 'AARefAlt', 'Reads'],\n",
       "      dtype='object')"
      ]
     },
     "execution_count": 4,
     "metadata": {},
     "output_type": "execute_result"
    }
   ],
   "source": [
    "old_resmarker_table.columns"
   ]
  },
  {
   "cell_type": "code",
   "execution_count": 5,
   "id": "2df07ec2-f3ee-42b2-8676-4c04448a5721",
   "metadata": {},
   "outputs": [
    {
     "data": {
      "text/plain": [
       "Index(['SampleID', 'Locus', 'GeneID', 'Gene', 'CodonID', 'RefCodon', 'Codon',\n",
       "       'CodonStart', 'CodonRefAlt', 'RefAA', 'AA', 'AARefAlt', 'Reads'],\n",
       "      dtype='object')"
      ]
     },
     "execution_count": 5,
     "metadata": {},
     "output_type": "execute_result"
    }
   ],
   "source": [
    "new_resmarker_table.columns"
   ]
  },
  {
   "cell_type": "code",
   "execution_count": 6,
   "id": "97e2a227-8260-4710-8d8d-0b5552ab5552",
   "metadata": {},
   "outputs": [
    {
     "data": {
      "text/plain": [
       "_merge\n",
       "both          8745\n",
       "left_only        0\n",
       "right_only       0\n",
       "Name: count, dtype: int64"
      ]
     },
     "execution_count": 6,
     "metadata": {},
     "output_type": "execute_result"
    }
   ],
   "source": [
    "resmarker_table_comparison = old_resmarker_table.merge(new_resmarker_table, how='outer', indicator=True)\n",
    "resmarker_table_comparison._merge.value_counts()"
   ]
  },
  {
   "cell_type": "code",
   "execution_count": 7,
   "id": "df886e25-900e-4a88-ab23-354191e29dd5",
   "metadata": {},
   "outputs": [
    {
     "data": {
      "text/html": [
       "<div>\n",
       "<style scoped>\n",
       "    .dataframe tbody tr th:only-of-type {\n",
       "        vertical-align: middle;\n",
       "    }\n",
       "\n",
       "    .dataframe tbody tr th {\n",
       "        vertical-align: top;\n",
       "    }\n",
       "\n",
       "    .dataframe thead th {\n",
       "        text-align: right;\n",
       "    }\n",
       "</style>\n",
       "<table border=\"1\" class=\"dataframe\">\n",
       "  <thead>\n",
       "    <tr style=\"text-align: right;\">\n",
       "      <th></th>\n",
       "      <th>SampleID</th>\n",
       "      <th>Locus</th>\n",
       "      <th>GeneID</th>\n",
       "      <th>Gene</th>\n",
       "      <th>CodonID</th>\n",
       "      <th>RefCodon</th>\n",
       "      <th>Codon</th>\n",
       "      <th>CodonStart</th>\n",
       "      <th>CodonRefAlt</th>\n",
       "      <th>RefAA</th>\n",
       "      <th>AA</th>\n",
       "      <th>AARefAlt</th>\n",
       "      <th>Reads</th>\n",
       "      <th>_merge</th>\n",
       "    </tr>\n",
       "  </thead>\n",
       "  <tbody>\n",
       "    <tr>\n",
       "      <th>0</th>\n",
       "      <td>1K_Control_8070941526_1_S33_L001</td>\n",
       "      <td>Pf3D7_04_v3-748105-748359-1B</td>\n",
       "      <td>417200</td>\n",
       "      <td>dhfr</td>\n",
       "      <td>16</td>\n",
       "      <td>GCA</td>\n",
       "      <td>GCA</td>\n",
       "      <td>3</td>\n",
       "      <td>REF</td>\n",
       "      <td>A</td>\n",
       "      <td>A</td>\n",
       "      <td>REF</td>\n",
       "      <td>697</td>\n",
       "      <td>both</td>\n",
       "    </tr>\n",
       "    <tr>\n",
       "      <th>1</th>\n",
       "      <td>1K_Control_8070941526_1_S33_L001</td>\n",
       "      <td>Pf3D7_04_v3-748105-748359-1B</td>\n",
       "      <td>417200</td>\n",
       "      <td>dhfr</td>\n",
       "      <td>51</td>\n",
       "      <td>AAT</td>\n",
       "      <td>ATT</td>\n",
       "      <td>108</td>\n",
       "      <td>ALT</td>\n",
       "      <td>N</td>\n",
       "      <td>I</td>\n",
       "      <td>ALT</td>\n",
       "      <td>697</td>\n",
       "      <td>both</td>\n",
       "    </tr>\n",
       "    <tr>\n",
       "      <th>2</th>\n",
       "      <td>1K_Control_8070941526_1_S33_L001</td>\n",
       "      <td>Pf3D7_04_v3-748105-748359-1B</td>\n",
       "      <td>417200</td>\n",
       "      <td>dhfr</td>\n",
       "      <td>59</td>\n",
       "      <td>TGT</td>\n",
       "      <td>CGT</td>\n",
       "      <td>132</td>\n",
       "      <td>ALT</td>\n",
       "      <td>C</td>\n",
       "      <td>R</td>\n",
       "      <td>ALT</td>\n",
       "      <td>697</td>\n",
       "      <td>both</td>\n",
       "    </tr>\n",
       "    <tr>\n",
       "      <th>3</th>\n",
       "      <td>1K_Control_8070941526_1_S33_L001</td>\n",
       "      <td>Pf3D7_04_v3-748374-748611-1B</td>\n",
       "      <td>417200</td>\n",
       "      <td>dhfr</td>\n",
       "      <td>108</td>\n",
       "      <td>AGC</td>\n",
       "      <td>AAC</td>\n",
       "      <td>1</td>\n",
       "      <td>ALT</td>\n",
       "      <td>S</td>\n",
       "      <td>N</td>\n",
       "      <td>ALT</td>\n",
       "      <td>1175</td>\n",
       "      <td>both</td>\n",
       "    </tr>\n",
       "    <tr>\n",
       "      <th>4</th>\n",
       "      <td>1K_Control_8070941526_1_S33_L001</td>\n",
       "      <td>Pf3D7_04_v3-748374-748611-1B</td>\n",
       "      <td>417200</td>\n",
       "      <td>dhfr</td>\n",
       "      <td>164</td>\n",
       "      <td>ATA</td>\n",
       "      <td>ATA</td>\n",
       "      <td>169</td>\n",
       "      <td>REF</td>\n",
       "      <td>I</td>\n",
       "      <td>I</td>\n",
       "      <td>REF</td>\n",
       "      <td>1175</td>\n",
       "      <td>both</td>\n",
       "    </tr>\n",
       "    <tr>\n",
       "      <th>...</th>\n",
       "      <td>...</td>\n",
       "      <td>...</td>\n",
       "      <td>...</td>\n",
       "      <td>...</td>\n",
       "      <td>...</td>\n",
       "      <td>...</td>\n",
       "      <td>...</td>\n",
       "      <td>...</td>\n",
       "      <td>...</td>\n",
       "      <td>...</td>\n",
       "      <td>...</td>\n",
       "      <td>...</td>\n",
       "      <td>...</td>\n",
       "      <td>...</td>\n",
       "    </tr>\n",
       "    <tr>\n",
       "      <th>8740</th>\n",
       "      <td>TS2-TC1-1k_S83_L001</td>\n",
       "      <td>Pf3D7_13_v3-1724895-1725166-1B</td>\n",
       "      <td>1343700</td>\n",
       "      <td>k13</td>\n",
       "      <td>662</td>\n",
       "      <td>TTT</td>\n",
       "      <td>TTT</td>\n",
       "      <td>122</td>\n",
       "      <td>REF</td>\n",
       "      <td>F</td>\n",
       "      <td>F</td>\n",
       "      <td>REF</td>\n",
       "      <td>519</td>\n",
       "      <td>both</td>\n",
       "    </tr>\n",
       "    <tr>\n",
       "      <th>8741</th>\n",
       "      <td>TS2-TC1-1k_S83_L001</td>\n",
       "      <td>Pf3D7_13_v3-1724895-1725166-1B</td>\n",
       "      <td>1343700</td>\n",
       "      <td>k13</td>\n",
       "      <td>675</td>\n",
       "      <td>GCT</td>\n",
       "      <td>GCT</td>\n",
       "      <td>161</td>\n",
       "      <td>REF</td>\n",
       "      <td>A</td>\n",
       "      <td>A</td>\n",
       "      <td>REF</td>\n",
       "      <td>519</td>\n",
       "      <td>both</td>\n",
       "    </tr>\n",
       "    <tr>\n",
       "      <th>8742</th>\n",
       "      <td>TS2-TC1-1k_S83_L001</td>\n",
       "      <td>Pf3D7_14_v3-2481033-2481276-1B</td>\n",
       "      <td>1460900</td>\n",
       "      <td>arps10</td>\n",
       "      <td>127</td>\n",
       "      <td>GTG</td>\n",
       "      <td>GTG</td>\n",
       "      <td>4</td>\n",
       "      <td>REF</td>\n",
       "      <td>V</td>\n",
       "      <td>V</td>\n",
       "      <td>REF</td>\n",
       "      <td>915</td>\n",
       "      <td>both</td>\n",
       "    </tr>\n",
       "    <tr>\n",
       "      <th>8743</th>\n",
       "      <td>TS2-TC1-1k_S83_L001</td>\n",
       "      <td>Pf3D7_14_v3-1956056-1956330-1B</td>\n",
       "      <td>1447900</td>\n",
       "      <td>mdr2</td>\n",
       "      <td>484</td>\n",
       "      <td>ACA</td>\n",
       "      <td>ACA</td>\n",
       "      <td>74</td>\n",
       "      <td>REF</td>\n",
       "      <td>T</td>\n",
       "      <td>T</td>\n",
       "      <td>REF</td>\n",
       "      <td>386</td>\n",
       "      <td>both</td>\n",
       "    </tr>\n",
       "    <tr>\n",
       "      <th>8744</th>\n",
       "      <td>TS2-TC1-1k_S83_L001</td>\n",
       "      <td>Pf3D7_14_v3-1956056-1956330-1B</td>\n",
       "      <td>1447900</td>\n",
       "      <td>mdr2</td>\n",
       "      <td>484</td>\n",
       "      <td>ACA</td>\n",
       "      <td>ATA</td>\n",
       "      <td>74</td>\n",
       "      <td>ALT</td>\n",
       "      <td>T</td>\n",
       "      <td>I</td>\n",
       "      <td>ALT</td>\n",
       "      <td>73</td>\n",
       "      <td>both</td>\n",
       "    </tr>\n",
       "  </tbody>\n",
       "</table>\n",
       "<p>8745 rows × 14 columns</p>\n",
       "</div>"
      ],
      "text/plain": [
       "                              SampleID                           Locus  \\\n",
       "0     1K_Control_8070941526_1_S33_L001    Pf3D7_04_v3-748105-748359-1B   \n",
       "1     1K_Control_8070941526_1_S33_L001    Pf3D7_04_v3-748105-748359-1B   \n",
       "2     1K_Control_8070941526_1_S33_L001    Pf3D7_04_v3-748105-748359-1B   \n",
       "3     1K_Control_8070941526_1_S33_L001    Pf3D7_04_v3-748374-748611-1B   \n",
       "4     1K_Control_8070941526_1_S33_L001    Pf3D7_04_v3-748374-748611-1B   \n",
       "...                                ...                             ...   \n",
       "8740               TS2-TC1-1k_S83_L001  Pf3D7_13_v3-1724895-1725166-1B   \n",
       "8741               TS2-TC1-1k_S83_L001  Pf3D7_13_v3-1724895-1725166-1B   \n",
       "8742               TS2-TC1-1k_S83_L001  Pf3D7_14_v3-2481033-2481276-1B   \n",
       "8743               TS2-TC1-1k_S83_L001  Pf3D7_14_v3-1956056-1956330-1B   \n",
       "8744               TS2-TC1-1k_S83_L001  Pf3D7_14_v3-1956056-1956330-1B   \n",
       "\n",
       "       GeneID    Gene  CodonID RefCodon Codon  CodonStart CodonRefAlt RefAA  \\\n",
       "0      417200    dhfr       16      GCA   GCA           3         REF     A   \n",
       "1      417200    dhfr       51      AAT   ATT         108         ALT     N   \n",
       "2      417200    dhfr       59      TGT   CGT         132         ALT     C   \n",
       "3      417200    dhfr      108      AGC   AAC           1         ALT     S   \n",
       "4      417200    dhfr      164      ATA   ATA         169         REF     I   \n",
       "...       ...     ...      ...      ...   ...         ...         ...   ...   \n",
       "8740  1343700     k13      662      TTT   TTT         122         REF     F   \n",
       "8741  1343700     k13      675      GCT   GCT         161         REF     A   \n",
       "8742  1460900  arps10      127      GTG   GTG           4         REF     V   \n",
       "8743  1447900    mdr2      484      ACA   ACA          74         REF     T   \n",
       "8744  1447900    mdr2      484      ACA   ATA          74         ALT     T   \n",
       "\n",
       "     AA AARefAlt  Reads _merge  \n",
       "0     A      REF    697   both  \n",
       "1     I      ALT    697   both  \n",
       "2     R      ALT    697   both  \n",
       "3     N      ALT   1175   both  \n",
       "4     I      REF   1175   both  \n",
       "...  ..      ...    ...    ...  \n",
       "8740  F      REF    519   both  \n",
       "8741  A      REF    519   both  \n",
       "8742  V      REF    915   both  \n",
       "8743  T      REF    386   both  \n",
       "8744  I      ALT     73   both  \n",
       "\n",
       "[8745 rows x 14 columns]"
      ]
     },
     "execution_count": 7,
     "metadata": {},
     "output_type": "execute_result"
    }
   ],
   "source": [
    "resmarker_table_comparison"
   ]
  },
  {
   "cell_type": "markdown",
   "id": "b884080b-7db7-48b9-9dc3-7f166a9b2315",
   "metadata": {},
   "source": [
    "# mhap table"
   ]
  },
  {
   "cell_type": "code",
   "execution_count": 8,
   "id": "53d217f5-291b-413f-b4d7-ba412efeca60",
   "metadata": {},
   "outputs": [],
   "source": [
    "merged_mhap = old_mhap_table.merge(new_mhap_table, how = 'outer', indicator=True)"
   ]
  },
  {
   "cell_type": "code",
   "execution_count": 9,
   "id": "35545538-c3ba-4b1a-b088-43047b51c02a",
   "metadata": {},
   "outputs": [
    {
     "data": {
      "text/plain": [
       "_merge\n",
       "both          2353\n",
       "left_only        0\n",
       "right_only       0\n",
       "Name: count, dtype: int64"
      ]
     },
     "execution_count": 9,
     "metadata": {},
     "output_type": "execute_result"
    }
   ],
   "source": [
    "merged_mhap._merge.value_counts()"
   ]
  },
  {
   "cell_type": "markdown",
   "id": "98c7a4ba-42c5-4175-90c2-1d7f042ec456",
   "metadata": {},
   "source": [
    "# New mutations "
   ]
  },
  {
   "cell_type": "code",
   "execution_count": 10,
   "id": "61b95aa0-9d99-4362-863f-16e06a122b18",
   "metadata": {},
   "outputs": [],
   "source": [
    "# Sum reads for duplicate codons\n",
    "old_new_mutations = old_new_mutations.groupby(\n",
    "    ['SampleID', 'Locus', 'GeneID', 'Gene', 'Position', 'Alt', 'Ref']).Reads.sum().reset_index()\n",
    "\n",
    "# Ensure reads is integer\n",
    "old_new_mutations['Reads'] = old_new_mutations['Reads'].astype(int)"
   ]
  },
  {
   "cell_type": "code",
   "execution_count": 11,
   "id": "9ab5d060-b033-4b5d-a383-f6e70754b14b",
   "metadata": {},
   "outputs": [
    {
     "data": {
      "text/plain": [
       "_merge\n",
       "both          1114\n",
       "right_only     163\n",
       "left_only        0\n",
       "Name: count, dtype: int64"
      ]
     },
     "execution_count": 11,
     "metadata": {},
     "output_type": "execute_result"
    }
   ],
   "source": [
    "merged = old_new_mutations.merge(new_new_mutations, on=['SampleID', 'Locus', 'GeneID', 'Gene', 'Position', 'Alt', ],how='outer', indicator=True)\n",
    "merged._merge.value_counts()"
   ]
  },
  {
   "cell_type": "code",
   "execution_count": 12,
   "id": "0c7c991f-fab2-49c1-bd6c-f9071361f91c",
   "metadata": {},
   "outputs": [
    {
     "data": {
      "text/plain": [
       "array(['Pf3D7_05_v3-958079-958350-1B', 'Pf3D7_13_v3-748254-748510-1B',\n",
       "       'Pf3D7_14_v3-1956056-1956330-1B', 'Pf3D7_05_v3-958372-958608-1B',\n",
       "       'Pf3D7_05_v3-961511-961758-1B'], dtype=object)"
      ]
     },
     "execution_count": 12,
     "metadata": {},
     "output_type": "execute_result"
    }
   ],
   "source": [
    "merged[merged._merge=='right_only'].Locus.unique()"
   ]
  },
  {
   "cell_type": "code",
   "execution_count": 13,
   "id": "7a9a4649-59a0-4685-b61b-a389d9061f2a",
   "metadata": {},
   "outputs": [
    {
     "data": {
      "text/html": [
       "<div>\n",
       "<style scoped>\n",
       "    .dataframe tbody tr th:only-of-type {\n",
       "        vertical-align: middle;\n",
       "    }\n",
       "\n",
       "    .dataframe tbody tr th {\n",
       "        vertical-align: top;\n",
       "    }\n",
       "\n",
       "    .dataframe thead th {\n",
       "        text-align: right;\n",
       "    }\n",
       "</style>\n",
       "<table border=\"1\" class=\"dataframe\">\n",
       "  <thead>\n",
       "    <tr style=\"text-align: right;\">\n",
       "      <th></th>\n",
       "      <th>SampleID</th>\n",
       "      <th>Locus</th>\n",
       "      <th>GeneID</th>\n",
       "      <th>Gene</th>\n",
       "      <th>Position</th>\n",
       "      <th>Alt</th>\n",
       "      <th>Ref</th>\n",
       "      <th>Reads</th>\n",
       "    </tr>\n",
       "  </thead>\n",
       "  <tbody>\n",
       "  </tbody>\n",
       "</table>\n",
       "</div>"
      ],
      "text/plain": [
       "Empty DataFrame\n",
       "Columns: [SampleID, Locus, GeneID, Gene, Position, Alt, Ref, Reads]\n",
       "Index: []"
      ]
     },
     "execution_count": 13,
     "metadata": {},
     "output_type": "execute_result"
    }
   ],
   "source": [
    "old_new_mutations[\n",
    "    (old_new_mutations.SampleID=='1K_Control_8070941526_1_S33_L001')\n",
    "    & (old_new_mutations.Locus=='Pf3D7_05_v3-958079-958350-1B')\n",
    "]"
   ]
  },
  {
   "cell_type": "code",
   "execution_count": 14,
   "id": "8caa46c9-0052-4849-b512-d39e140a5950",
   "metadata": {},
   "outputs": [
    {
     "data": {
      "text/html": [
       "<div>\n",
       "<style scoped>\n",
       "    .dataframe tbody tr th:only-of-type {\n",
       "        vertical-align: middle;\n",
       "    }\n",
       "\n",
       "    .dataframe tbody tr th {\n",
       "        vertical-align: top;\n",
       "    }\n",
       "\n",
       "    .dataframe thead th {\n",
       "        text-align: right;\n",
       "    }\n",
       "</style>\n",
       "<table border=\"1\" class=\"dataframe\">\n",
       "  <thead>\n",
       "    <tr style=\"text-align: right;\">\n",
       "      <th></th>\n",
       "      <th>SampleID</th>\n",
       "      <th>Locus</th>\n",
       "      <th>GeneID</th>\n",
       "      <th>Gene</th>\n",
       "      <th>Position</th>\n",
       "      <th>Alt</th>\n",
       "      <th>Ref</th>\n",
       "      <th>Reads</th>\n",
       "    </tr>\n",
       "  </thead>\n",
       "  <tbody>\n",
       "    <tr>\n",
       "      <th>3</th>\n",
       "      <td>1K_Control_8070941526_1_S33_L001</td>\n",
       "      <td>Pf3D7_05_v3-958079-958350-1B</td>\n",
       "      <td>523000</td>\n",
       "      <td>mdr1</td>\n",
       "      <td>38</td>\n",
       "      <td>T</td>\n",
       "      <td>A</td>\n",
       "      <td>539</td>\n",
       "    </tr>\n",
       "    <tr>\n",
       "      <th>4</th>\n",
       "      <td>1K_Control_8070941526_1_S33_L001</td>\n",
       "      <td>Pf3D7_05_v3-958079-958350-1B</td>\n",
       "      <td>523000</td>\n",
       "      <td>mdr1</td>\n",
       "      <td>39</td>\n",
       "      <td>T</td>\n",
       "      <td>A</td>\n",
       "      <td>519</td>\n",
       "    </tr>\n",
       "  </tbody>\n",
       "</table>\n",
       "</div>"
      ],
      "text/plain": [
       "                           SampleID                         Locus  GeneID  \\\n",
       "3  1K_Control_8070941526_1_S33_L001  Pf3D7_05_v3-958079-958350-1B  523000   \n",
       "4  1K_Control_8070941526_1_S33_L001  Pf3D7_05_v3-958079-958350-1B  523000   \n",
       "\n",
       "   Gene  Position Alt Ref  Reads  \n",
       "3  mdr1        38   T   A    539  \n",
       "4  mdr1        39   T   A    519  "
      ]
     },
     "execution_count": 14,
     "metadata": {},
     "output_type": "execute_result"
    }
   ],
   "source": [
    "new_new_mutations[\n",
    "    (new_new_mutations.SampleID=='1K_Control_8070941526_1_S33_L001')\n",
    "    & (new_new_mutations.Locus=='Pf3D7_05_v3-958079-958350-1B')\n",
    "]"
   ]
  },
  {
   "cell_type": "code",
   "execution_count": 15,
   "id": "06d86aa1-c2fa-4445-a262-a5019573ae07",
   "metadata": {},
   "outputs": [
    {
     "data": {
      "text/html": [
       "<div>\n",
       "<style scoped>\n",
       "    .dataframe tbody tr th:only-of-type {\n",
       "        vertical-align: middle;\n",
       "    }\n",
       "\n",
       "    .dataframe tbody tr th {\n",
       "        vertical-align: top;\n",
       "    }\n",
       "\n",
       "    .dataframe thead th {\n",
       "        text-align: right;\n",
       "    }\n",
       "</style>\n",
       "<table border=\"1\" class=\"dataframe\">\n",
       "  <thead>\n",
       "    <tr style=\"text-align: right;\">\n",
       "      <th></th>\n",
       "      <th>SampleID</th>\n",
       "      <th>Locus</th>\n",
       "      <th>ASV</th>\n",
       "      <th>Reads</th>\n",
       "      <th>Allele</th>\n",
       "      <th>PseudoCIGAR</th>\n",
       "    </tr>\n",
       "  </thead>\n",
       "  <tbody>\n",
       "    <tr>\n",
       "      <th>8421</th>\n",
       "      <td>1K_Control_8070941526_1_S33_L001</td>\n",
       "      <td>Pf3D7_05_v3-958079-958350-1B</td>\n",
       "      <td>TTTTTATATCTGTGTTTGGTGTAATATTAAAGAACATGTTTTTAGG...</td>\n",
       "      <td>519</td>\n",
       "      <td>Pf3D7_05_v3-958079-958350-1B.2</td>\n",
       "      <td>39T40T186+8N</td>\n",
       "    </tr>\n",
       "    <tr>\n",
       "      <th>8422</th>\n",
       "      <td>1K_Control_8070941526_1_S33_L001</td>\n",
       "      <td>Pf3D7_05_v3-958079-958350-1B</td>\n",
       "      <td>TTTTTATATCTGTGTTTGGTGTAATATTAAAGAACATGTATTTAGG...</td>\n",
       "      <td>20</td>\n",
       "      <td>Pf3D7_05_v3-958079-958350-1B.3</td>\n",
       "      <td>39T186+8N</td>\n",
       "    </tr>\n",
       "  </tbody>\n",
       "</table>\n",
       "</div>"
      ],
      "text/plain": [
       "                              SampleID                         Locus  \\\n",
       "8421  1K_Control_8070941526_1_S33_L001  Pf3D7_05_v3-958079-958350-1B   \n",
       "8422  1K_Control_8070941526_1_S33_L001  Pf3D7_05_v3-958079-958350-1B   \n",
       "\n",
       "                                                    ASV  Reads  \\\n",
       "8421  TTTTTATATCTGTGTTTGGTGTAATATTAAAGAACATGTTTTTAGG...    519   \n",
       "8422  TTTTTATATCTGTGTTTGGTGTAATATTAAAGAACATGTATTTAGG...     20   \n",
       "\n",
       "                              Allele   PseudoCIGAR  \n",
       "8421  Pf3D7_05_v3-958079-958350-1B.2  39T40T186+8N  \n",
       "8422  Pf3D7_05_v3-958079-958350-1B.3     39T186+8N  "
      ]
     },
     "execution_count": 15,
     "metadata": {},
     "output_type": "execute_result"
    }
   ],
   "source": [
    "allele_data = pd.read_csv('real_example/allele_data.txt', sep='\\t')\n",
    "allele_data[\n",
    "    (allele_data.SampleID=='1K_Control_8070941526_1_S33_L001')\n",
    "    & (allele_data.Locus=='Pf3D7_05_v3-958079-958350-1B')\n",
    "]"
   ]
  },
  {
   "cell_type": "code",
   "execution_count": 16,
   "id": "97d68cf7-1dcf-4f03-b5e9-55d1db9486bd",
   "metadata": {},
   "outputs": [
    {
     "data": {
      "text/plain": [
       "3.0"
      ]
     },
     "execution_count": 16,
     "metadata": {},
     "output_type": "execute_result"
    }
   ],
   "source": [
    "2091/697"
   ]
  },
  {
   "cell_type": "code",
   "execution_count": 703,
   "id": "646b1a5a-a498-42c8-ab80-8bb6fc11137c",
   "metadata": {},
   "outputs": [],
   "source": [
    "# Sum reads for duplicate codons\n",
    "old_new_mutations = old_new_mutations.groupby(\n",
    "    ['SampleID', 'Locus', 'GeneID', 'Gene', 'Position', 'Alt', 'Ref']).Reads.sum().reset_index()\n",
    "\n",
    "# Ensure reads is integer\n",
    "old_new_mutations['Reads'] = old_new_mutations['Reads'].astype(int)"
   ]
  },
  {
   "cell_type": "code",
   "execution_count": 704,
   "id": "f3bc7d23-3400-4ca2-b815-ac4c051d4141",
   "metadata": {},
   "outputs": [
    {
     "data": {
      "text/html": [
       "<div>\n",
       "<style scoped>\n",
       "    .dataframe tbody tr th:only-of-type {\n",
       "        vertical-align: middle;\n",
       "    }\n",
       "\n",
       "    .dataframe tbody tr th {\n",
       "        vertical-align: top;\n",
       "    }\n",
       "\n",
       "    .dataframe thead th {\n",
       "        text-align: right;\n",
       "    }\n",
       "</style>\n",
       "<table border=\"1\" class=\"dataframe\">\n",
       "  <thead>\n",
       "    <tr style=\"text-align: right;\">\n",
       "      <th></th>\n",
       "      <th>SampleID</th>\n",
       "      <th>Locus</th>\n",
       "      <th>GeneID</th>\n",
       "      <th>Gene</th>\n",
       "      <th>Position</th>\n",
       "      <th>Alt</th>\n",
       "      <th>Ref</th>\n",
       "      <th>Reads</th>\n",
       "    </tr>\n",
       "  </thead>\n",
       "  <tbody>\n",
       "    <tr>\n",
       "      <th>0</th>\n",
       "      <td>1K_Control_8070941526_1_S33_L001</td>\n",
       "      <td>Pf3D7_04_v3-748105-748359-1B</td>\n",
       "      <td>417200</td>\n",
       "      <td>dhfr</td>\n",
       "      <td>109</td>\n",
       "      <td>T</td>\n",
       "      <td>A</td>\n",
       "      <td>1394</td>\n",
       "    </tr>\n",
       "    <tr>\n",
       "      <th>1</th>\n",
       "      <td>1K_Control_8070941526_1_S33_L001</td>\n",
       "      <td>Pf3D7_04_v3-748105-748359-1B</td>\n",
       "      <td>417200</td>\n",
       "      <td>dhfr</td>\n",
       "      <td>132</td>\n",
       "      <td>C</td>\n",
       "      <td>T</td>\n",
       "      <td>1394</td>\n",
       "    </tr>\n",
       "  </tbody>\n",
       "</table>\n",
       "</div>"
      ],
      "text/plain": [
       "                           SampleID                         Locus  GeneID  \\\n",
       "0  1K_Control_8070941526_1_S33_L001  Pf3D7_04_v3-748105-748359-1B  417200   \n",
       "1  1K_Control_8070941526_1_S33_L001  Pf3D7_04_v3-748105-748359-1B  417200   \n",
       "\n",
       "   Gene  Position Alt Ref  Reads  \n",
       "0  dhfr       109   T   A   1394  \n",
       "1  dhfr       132   C   T   1394  "
      ]
     },
     "execution_count": 704,
     "metadata": {},
     "output_type": "execute_result"
    }
   ],
   "source": [
    "old_new_mutations[\n",
    "    (old_new_mutations.SampleID=='1K_Control_8070941526_1_S33_L001')\n",
    "    & (old_new_mutations.Locus=='Pf3D7_04_v3-748105-748359-1B')\n",
    "]"
   ]
  },
  {
   "cell_type": "code",
   "execution_count": 705,
   "id": "6fa1f15e-6c0e-4172-9a96-868b33342ee4",
   "metadata": {},
   "outputs": [
    {
     "data": {
      "text/plain": [
       "_merge\n",
       "right_only    1256\n",
       "left_only     1093\n",
       "both            21\n",
       "Name: count, dtype: int64"
      ]
     },
     "execution_count": 705,
     "metadata": {},
     "output_type": "execute_result"
    }
   ],
   "source": [
    "merged = old_new_mutations.merge(new_new_mutations, how='outer', indicator=True)\n",
    "merged._merge.value_counts()"
   ]
  },
  {
   "cell_type": "code",
   "execution_count": null,
   "id": "a243d514-9205-45a9-bcd8-0786212830c8",
   "metadata": {},
   "outputs": [],
   "source": []
  },
  {
   "cell_type": "code",
   "execution_count": null,
   "id": "874090b3-d07e-42d8-b976-f208478b28aa",
   "metadata": {},
   "outputs": [],
   "source": []
  }
 ],
 "metadata": {
  "kernelspec": {
   "display_name": "analysis_env",
   "language": "python",
   "name": "analysis_env"
  },
  "language_info": {
   "codemirror_mode": {
    "name": "ipython",
    "version": 3
   },
   "file_extension": ".py",
   "mimetype": "text/x-python",
   "name": "python",
   "nbconvert_exporter": "python",
   "pygments_lexer": "ipython3",
   "version": "3.12.0"
  }
 },
 "nbformat": 4,
 "nbformat_minor": 5
}
